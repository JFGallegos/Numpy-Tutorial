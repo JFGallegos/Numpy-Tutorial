{
 "cells": [
  {
   "cell_type": "markdown",
   "metadata": {},
   "source": [
    "# Numpy Tutorial"
   ]
  },
  {
   "cell_type": "code",
   "execution_count": 198,
   "metadata": {},
   "outputs": [],
   "source": [
    "import numpy as np\n",
    "import numpy.linalg as linalg \n",
    "import time"
   ]
  },
  {
   "cell_type": "code",
   "execution_count": 5,
   "metadata": {},
   "outputs": [
    {
     "name": "stdout",
     "output_type": "stream",
     "text": [
      "a type: int64\n",
      "a type: float64\n"
     ]
    }
   ],
   "source": [
    "## Create a table from a list or a tuple using the function\n",
    "\n",
    "a = np.array([2,3,4])\n",
    "\n",
    "print ('a type:',a.dtype)\n",
    "\n",
    "b = np.array([1.2, 3.5, 5.1])\n",
    "\n",
    "print ('a type:',b.dtype)\n",
    "\n",
    "## The [] must be specified in the line code, otherwise the line code will be interpreted as a sequence of numbers\n"
   ]
  },
  {
   "cell_type": "code",
   "execution_count": 8,
   "metadata": {},
   "outputs": [
    {
     "data": {
      "text/plain": [
       "array([[1.5, 2. , 3. ],\n",
       "       [4. , 5. , 6. ]])"
      ]
     },
     "execution_count": 8,
     "metadata": {},
     "output_type": "execute_result"
    }
   ],
   "source": [
    "## array transforms nested sequences into multidimensional array. For example:\n",
    "\n",
    "b = np.array([ (1.5,2,3), (4,5,6) ])\n",
    "b"
   ]
  },
  {
   "cell_type": "code",
   "execution_count": 9,
   "metadata": {},
   "outputs": [
    {
     "data": {
      "text/plain": [
       "array([[1.+0.j, 2.+0.j],\n",
       "       [3.+0.j, 4.+0.j]])"
      ]
     },
     "execution_count": 9,
     "metadata": {},
     "output_type": "execute_result"
    }
   ],
   "source": [
    "## The data type can also be specified at creation. \n",
    "## By default, it is automatically detected. Here, we force the elements of the array to be complex numbers:\n",
    "\n",
    "c = np.array([ [1,2], [3,4] ], dtype= complex )\n",
    "c\n"
   ]
  },
  {
   "cell_type": "code",
   "execution_count": 25,
   "metadata": {},
   "outputs": [
    {
     "name": "stdout",
     "output_type": "stream",
     "text": [
      "zeros: [[0. 0. 0. 0.]\n",
      " [0. 0. 0. 0.]\n",
      " [0. 0. 0. 0.]] ones: [[[1 1 1 1]\n",
      "  [1 1 1 1]\n",
      "  [1 1 1 1]]\n",
      "\n",
      " [[1 1 1 1]\n",
      "  [1 1 1 1]\n",
      "  [1 1 1 1]]] empty: [[1.5 2.  3. ]\n",
      " [4.  5.  6. ]]\n"
     ]
    }
   ],
   "source": [
    "# The zeros function is used to create an array containing only zeros;\n",
    "\n",
    "zeros = np.zeros( (3,4) )\n",
    "\n",
    "# The ones function creates a table with ones;\n",
    "\n",
    "ones = np.ones( (2,3,4), dtype= int )\n",
    "\n",
    "# The empty function creates a table filled with indeterminate elements (i.e with what was already in memory).\n",
    "\n",
    "empty = np.empty( (2,3) )\n",
    "\n",
    "print ('zeros:',zeros,\n",
    "       'ones:',ones,'empty:', empty)\n",
    "\n",
    "\n"
   ]
  },
  {
   "cell_type": "code",
   "execution_count": 33,
   "metadata": {},
   "outputs": [
    {
     "name": "stdout",
     "output_type": "stream",
     "text": [
      "arange: [10 15 20 25]\n",
      "array: [10 15 20 25]\n"
     ]
    }
   ],
   "source": [
    "# Numpy offers two functions that make it easy to create sequences of numbers.\n",
    "# Like the range function except that it returns an array instead of a list,\n",
    "# arange takes as argument the starting number, the ending number and the step.\n",
    "\n",
    "print (\"arange:\", np.arange( 10, 30, 5 ))\n",
    "\n",
    "print (\"array:\", np.array([10, 15, 20, 25]))\n"
   ]
  },
  {
   "cell_type": "code",
   "execution_count": 43,
   "metadata": {},
   "outputs": [
    {
     "name": "stdout",
     "output_type": "stream",
     "text": [
      "[0.   0.25 0.5  0.75 1.   1.25 1.5  1.75 2.  ]\n",
      "evaluate function for given points: [ 0.00000000e+00  6.34239197e-02  1.26592454e-01  1.89251244e-01\n",
      "  2.51147987e-01  3.12033446e-01  3.71662456e-01  4.29794912e-01\n",
      "  4.86196736e-01  5.40640817e-01  5.92907929e-01  6.42787610e-01\n",
      "  6.90079011e-01  7.34591709e-01  7.76146464e-01  8.14575952e-01\n",
      "  8.49725430e-01  8.81453363e-01  9.09631995e-01  9.34147860e-01\n",
      "  9.54902241e-01  9.71811568e-01  9.84807753e-01  9.93838464e-01\n",
      "  9.98867339e-01  9.99874128e-01  9.96854776e-01  9.89821442e-01\n",
      "  9.78802446e-01  9.63842159e-01  9.45000819e-01  9.22354294e-01\n",
      "  8.95993774e-01  8.66025404e-01  8.32569855e-01  7.95761841e-01\n",
      "  7.55749574e-01  7.12694171e-01  6.66769001e-01  6.18158986e-01\n",
      "  5.67059864e-01  5.13677392e-01  4.58226522e-01  4.00930535e-01\n",
      "  3.42020143e-01  2.81732557e-01  2.20310533e-01  1.58001396e-01\n",
      "  9.50560433e-02  3.17279335e-02 -3.17279335e-02 -9.50560433e-02\n",
      " -1.58001396e-01 -2.20310533e-01 -2.81732557e-01 -3.42020143e-01\n",
      " -4.00930535e-01 -4.58226522e-01 -5.13677392e-01 -5.67059864e-01\n",
      " -6.18158986e-01 -6.66769001e-01 -7.12694171e-01 -7.55749574e-01\n",
      " -7.95761841e-01 -8.32569855e-01 -8.66025404e-01 -8.95993774e-01\n",
      " -9.22354294e-01 -9.45000819e-01 -9.63842159e-01 -9.78802446e-01\n",
      " -9.89821442e-01 -9.96854776e-01 -9.99874128e-01 -9.98867339e-01\n",
      " -9.93838464e-01 -9.84807753e-01 -9.71811568e-01 -9.54902241e-01\n",
      " -9.34147860e-01 -9.09631995e-01 -8.81453363e-01 -8.49725430e-01\n",
      " -8.14575952e-01 -7.76146464e-01 -7.34591709e-01 -6.90079011e-01\n",
      " -6.42787610e-01 -5.92907929e-01 -5.40640817e-01 -4.86196736e-01\n",
      " -4.29794912e-01 -3.71662456e-01 -3.12033446e-01 -2.51147987e-01\n",
      " -1.89251244e-01 -1.26592454e-01 -6.34239197e-02 -2.44929360e-16]\n"
     ]
    }
   ],
   "source": [
    "# When we want to create sequences of real numbers and we know the number of elements we need, the linspace function is practical. \n",
    "# linspace takes as argument the number of desired elements rather than the step.\n",
    "\n",
    "print (np.linspace( 0, 2, 9 )) # 9 numbers from 0 to 2\n",
    "\n",
    "x = np.linspace( 0, 2*np.pi, 100 ) # Useful for evaluating a function for given points\n",
    "\n",
    "f = np.sin(x)\n",
    "\n",
    "print('evaluate function for given points:', f)"
   ]
  },
  {
   "cell_type": "code",
   "execution_count": 57,
   "metadata": {},
   "outputs": [
    {
     "name": "stdout",
     "output_type": "stream",
     "text": [
      "dimensions: 2\n",
      "rows and columns: (2, 5)\n",
      "type of the elements: int64\n",
      "number of elements: 10\n",
      "type of object: <class 'numpy.ndarray'>\n"
     ]
    }
   ],
   "source": [
    "a = np.array([[0, 1, 2, 3, 4],\n",
    "                 [5, 6, 7, 8, 9]])\n",
    "\n",
    "## Number of dimensions (rows):\n",
    "\n",
    "print (\"dimensions:\", a.ndim) \n",
    "    \n",
    "    \n",
    "## The dimensions of the array contained in a tuple of size equal to ndarray.ndim:\n",
    "\n",
    "print (\"rows and columns:\", a.shape)\n",
    "\n",
    "## Type of elements in the table (ex. int, float, numpy.int32, numpy.int16, and numpy.float64, etc)\n",
    "\n",
    "print(\"type of the elements:\", a.dtype.name)\n",
    "\n",
    "## Total number of elements in the table which is equal to the ,ultiplication of shape\n",
    "## Rows X Columns\n",
    "\n",
    "print(\"number of elements:\", a.size)\n",
    "\n",
    "print(\"type of object:\", type(a))"
   ]
  },
  {
   "cell_type": "markdown",
   "metadata": {},
   "source": [
    "## Basic operations"
   ]
  },
  {
   "cell_type": "markdown",
   "metadata": {},
   "source": [
    "### Arithmetique"
   ]
  },
  {
   "cell_type": "code",
   "execution_count": 66,
   "metadata": {},
   "outputs": [
    {
     "name": "stdout",
     "output_type": "stream",
     "text": [
      "a= [20 30 40 50]\n",
      "b= [0 1 2 3]\n",
      "substraction of a - b= [20 29 38 47]\n",
      "b exponent 2= [0 1 4 9]\n",
      "transform a: [ 9.12945251 -9.88031624  7.4511316  -2.62374854]\n",
      "evaluate a<35= [ True  True False False]\n"
     ]
    }
   ],
   "source": [
    "## The arithmetic operators are applied element by element.\n",
    "## The result is contained in a new table of the same dimension. For example:\n",
    "\n",
    "a = np.array([20,30,40,50])\n",
    "print(\"a=\", a)\n",
    "\n",
    "b = np.arange( 4 )\n",
    "print (\"b=\", b)\n",
    "\n",
    "c = a-b\n",
    "print (\"substraction of a - b=\", c)\n",
    "\n",
    "print('b exponent 2=',b**2)\n",
    "\n",
    "print('transform a:',10*np.sin(a))\n",
    "\n",
    "print('evaluate a<35=',a<35)"
   ]
  },
  {
   "cell_type": "code",
   "execution_count": 68,
   "metadata": {},
   "outputs": [
    {
     "name": "stdout",
     "output_type": "stream",
     "text": [
      "product element by element: [[2 0]\n",
      " [0 4]]\n",
      "matricial product: [[5 4]\n",
      " [3 4]]\n"
     ]
    }
   ],
   "source": [
    "## Unlike many other languages, the \"product / multiplication\" operator is not the dot product. \n",
    "## The product is elements by elements:\n",
    "\n",
    "A = np.array([[1,1],\n",
    "              [0,1]])\n",
    "\n",
    "B = np.array([[2,0],\n",
    "              [3,4]])\n",
    "\n",
    "print ('product element by element:', A*B)     # product element by element\n",
    "\n",
    "print ('matricial product:', np.dot(A,B))      # matricial product\n"
   ]
  },
  {
   "cell_type": "code",
   "execution_count": 81,
   "metadata": {},
   "outputs": [
    {
     "name": "stdout",
     "output_type": "stream",
     "text": [
      "a= [[3 3 3]\n",
      " [3 3 3]]\n",
      "b= [[3.09253913 3.7750344  3.31792014]\n",
      " [3.2776462  3.73646601 3.73783938]]\n"
     ]
    }
   ],
   "source": [
    "## Some operators like + = and * = make changes on the spot (no new tables are created).\n",
    "\n",
    "a = np.ones((2,3), dtype=int)\n",
    "b = np.random.random((2,3))\n",
    "a *= 3\n",
    "print ('a=', a)\n",
    "\n",
    "b += a\n",
    "print('b=', b)\n"
   ]
  },
  {
   "cell_type": "markdown",
   "metadata": {},
   "source": [
    "### Unitary Operators"
   ]
  },
  {
   "cell_type": "code",
   "execution_count": 87,
   "metadata": {},
   "outputs": [
    {
     "name": "stdout",
     "output_type": "stream",
     "text": [
      "a = [[0.30403417 0.66061974 0.81239986]\n",
      " [0.02428742 0.20758681 0.71513213]]\n",
      "sum a = 2.7240601338131993\n",
      "min a = 0.02428741934037537\n",
      "max a = 0.8123998588530807\n"
     ]
    }
   ],
   "source": [
    "a = np.random.random((2,3))\n",
    "print('a =', a)\n",
    "\n",
    "print ('sum a =', a.sum())\n",
    "\n",
    "print ('min a =', a.min())\n",
    "\n",
    "print ('max a =', a.max())"
   ]
  },
  {
   "cell_type": "code",
   "execution_count": 94,
   "metadata": {},
   "outputs": [
    {
     "name": "stdout",
     "output_type": "stream",
     "text": [
      "b= [[ 0  1  2  3]\n",
      " [ 4  5  6  7]\n",
      " [ 8  9 10 11]]\n",
      "sum of each column = [12 15 18 21]\n",
      "sum of each row = [ 6 22 38]\n",
      "cumulative sum of each row =  [[ 0  1  3  6]\n",
      " [ 4  9 15 22]\n",
      " [ 8 17 27 38]]\n"
     ]
    }
   ],
   "source": [
    "## By default, these operators consider the arrays as a list of elements without regard to dimensions. \n",
    "## On the other hand, by specifying the parameter axis (dimension), it is possible to apply the operator only according to this dimension.\n",
    "\n",
    "b = np.arange(12).reshape(3,4)\n",
    "\n",
    "print ('b=', b)\n",
    "\n",
    "print('sum of each column =', b.sum(axis=0))\n",
    "\n",
    "print('sum of each row =', b.sum(axis=1))\n",
    "\n",
    "print ('cumulative sum of each row = ', b.cumsum(axis=1))"
   ]
  },
  {
   "cell_type": "markdown",
   "metadata": {},
   "source": [
    "## Linear Algebra Operators"
   ]
  },
  {
   "cell_type": "code",
   "execution_count": 132,
   "metadata": {},
   "outputs": [
    {
     "name": "stdout",
     "output_type": "stream",
     "text": [
      "a =, [[1. 2.]\n",
      " [4. 3.]]\n",
      "transpose a: [[1. 4.]\n",
      " [2. 3.]]\n",
      "inverse a: [[-0.6  0.4]\n",
      " [ 0.8 -0.2]]\n",
      "identity matrix 2 X 2: [[1. 0.]\n",
      " [0. 1.]]\n",
      "trace u = 2.0\n",
      "matrix j= [[ 0. -1.]\n",
      " [ 1.  0.]]\n",
      "matricial product j**j= [[ 0. -1.]\n",
      " [ 1.  0.]] ** [[ 0. -1.]\n",
      " [ 1.  0.]] = [[-1.  0.]\n",
      " [ 0. -1.]]\n",
      "y =  [[5.]\n",
      " [7.]]\n",
      "solve system a*x = y : [[-0.2]\n",
      " [ 2.6]]\n",
      "eigenvectors of j= (array([0.+1.j, 0.-1.j]), array([[0.70710678+0.j        , 0.70710678-0.j        ],\n",
      "       [0.        -0.70710678j, 0.        +0.70710678j]]))\n"
     ]
    }
   ],
   "source": [
    "a = np.array([[1.0, 2.0], [4.0, 3.0]])\n",
    "\n",
    "print (\"a =,\", a)\n",
    "\n",
    "print ('transpose a:', a.transpose())\n",
    "\n",
    "print ('inverse a:', linalg.inv(a))\n",
    "\n",
    "\n",
    "u = np.eye(2) # Identity Matrix 2x2; \"eye\" represents \"I\"\n",
    "\n",
    "print (\"identity matrix 2 X 2:\", u)\n",
    "\n",
    "print (\"trace u =\", np.trace(u))\n",
    "\n",
    "\n",
    "j = np.array([[0.0, -1.0], [1.0, 0.0]])\n",
    "\n",
    "print ('matrix j=', j)\n",
    "\n",
    "print ('matricial product j**j=', j , '**',j ,'=', np.dot(j,j)) ## Matricial product\n",
    "\n",
    "## Solve a linear system\n",
    "\n",
    "y = np.array([[5.], [7.]])\n",
    "\n",
    "print (\"y = \" , y)\n",
    "\n",
    "print (\"solve system a*x = y :\", np.linalg.solve(a, y))\n",
    "\n",
    "# values / eigenvectors of a matrix\n",
    "\n",
    "print (\"eigenvectors of j=\", eig(j))\n",
    "\n"
   ]
  },
  {
   "cell_type": "markdown",
   "metadata": {},
   "source": [
    "### Indexation, slicing and iteration"
   ]
  },
  {
   "cell_type": "code",
   "execution_count": 155,
   "metadata": {},
   "outputs": [
    {
     "name": "stdout",
     "output_type": "stream",
     "text": [
      "a = [  0   1   8  27  64 125 216 343 512 729]\n",
      "third term of a =  8\n",
      "slice array = [ 8 27 64]\n",
      "[-1000     1 -1000    27 -1000   125   216   343   512   729]\n",
      "[  729   512   343   216   125 -1000    27 -1000     1 -1000]\n",
      "1000000\n",
      "1\n",
      "1000000\n",
      "729\n",
      "1000000\n",
      "15625\n",
      "46656\n",
      "117649\n",
      "262144\n",
      "531441\n"
     ]
    }
   ],
   "source": [
    "## One dimension\n",
    "\n",
    "## One-dimensional arrays can be indexed, sliced, and iterated essentially as lists.\n",
    "\n",
    "a = np.arange(10)**3\n",
    "\n",
    "print (\"a =\", a)\n",
    "\n",
    "print (\"third term of a = \", a[2])\n",
    "\n",
    "print (\"slice array =\", a[2:5])\n",
    "\n",
    "## Slice from beginning to index 6 (excluded), assign one element out of two to -1000\n",
    "\n",
    "a[:6:2] = -1000\n",
    "\n",
    "print (a)\n",
    "\n",
    "## Allows to reverse the order of elements of a\n",
    "\n",
    "b = a[::-1]\n",
    "\n",
    "print (b)\n",
    "\n",
    "## Run a loop on each element of a \n",
    "\n",
    "for i in a:\n",
    "      print (i ** (2))"
   ]
  },
  {
   "cell_type": "code",
   "execution_count": 162,
   "metadata": {},
   "outputs": [
    {
     "name": "stdout",
     "output_type": "stream",
     "text": [
      "23\n",
      "[ 1 11 21 31 41]\n",
      "[ 1 11 21 31 41]\n",
      "[[10 11 12 13]\n",
      " [20 21 22 23]]\n"
     ]
    }
   ],
   "source": [
    "## N dimensions\n",
    "\n",
    "b = np.array([[ 0,  1,  2,  3],\n",
    "            [10, 11, 12, 13],\n",
    "            [20, 21, 22, 23],\n",
    "            [30, 31, 32, 33],\n",
    "            [40, 41, 42, 43]])\n",
    "\n",
    "## Extract the 4th element of the third row\n",
    "\n",
    "print(b[2,3])\n",
    "\n",
    "## Extract each column of the second column of b\n",
    "\n",
    "print(b[0:5,1])\n",
    "\n",
    "## Same as precedent example\n",
    "\n",
    "print (b[:,1])\n",
    "\n",
    "# Extract each column of the 2nd and 3rd row of b\n",
    "\n",
    "print (b[1:3,:])\n",
    "\n",
    "\n"
   ]
  },
  {
   "cell_type": "code",
   "execution_count": 177,
   "metadata": {},
   "outputs": [
    {
     "data": {
      "text/plain": [
       "array([[2., 2., 9., 3.],\n",
       "       [0., 5., 5., 3.],\n",
       "       [5., 3., 8., 3.]])"
      ]
     },
     "execution_count": 177,
     "metadata": {},
     "output_type": "execute_result"
    }
   ],
   "source": [
    "## Copy of tables\n",
    "d = a.copy()       # create new table with the elements of an existing one\n",
    "\n",
    "d"
   ]
  },
  {
   "cell_type": "code",
   "execution_count": 190,
   "metadata": {},
   "outputs": [
    {
     "name": "stdout",
     "output_type": "stream",
     "text": [
      "a= [[7. 6. 0. 4.]\n",
      " [4. 7. 7. 2.]\n",
      " [0. 4. 4. 0.]]\n",
      "(3, 4)\n",
      "flaten a = [7. 6. 0. 4. 4. 7. 7. 2. 0. 4. 4. 0.]\n",
      "transpose a = [[7. 4. 0.]\n",
      " [6. 7. 4.]\n",
      " [0. 7. 4.]\n",
      " [4. 2. 0.]]\n"
     ]
    },
    {
     "data": {
      "text/plain": [
       "array([[7., 6.],\n",
       "       [0., 4.],\n",
       "       [4., 7.],\n",
       "       [7., 2.],\n",
       "       [0., 4.],\n",
       "       [4., 0.]])"
      ]
     },
     "execution_count": 190,
     "metadata": {},
     "output_type": "execute_result"
    }
   ],
   "source": [
    "## Modification of dimensions\n",
    "## The dimensions (the shape) of an array can be modified in several ways:\n",
    "\n",
    "a = np.floor(10*np.random.random((3,4)))\n",
    "\n",
    "print ('a = ',a)\n",
    "\n",
    "print(a.shape)\n",
    "\n",
    "## Flattens the table\n",
    "\n",
    "print(\"flaten a =\",a.ravel())\n",
    "\n",
    "## Transpose a\n",
    "\n",
    "print(\"transpose a =\",a.transpose())\n",
    "\n",
    "## Change the shape of the table\n",
    "\n",
    "a.shape = (6, 2)\n",
    "\n",
    "a"
   ]
  },
  {
   "cell_type": "code",
   "execution_count": 194,
   "metadata": {},
   "outputs": [
    {
     "name": "stdout",
     "output_type": "stream",
     "text": [
      "[[7. 6. 0. 4. 4. 7.]\n",
      " [7. 2. 0. 4. 4. 0.]]\n",
      "[[7. 6. 0. 4. 4. 7.]\n",
      " [7. 2. 0. 4. 4. 0.]]\n"
     ]
    }
   ],
   "source": [
    "## resize and reshape are other ways to change the dimensions of the table\n",
    "\n",
    "## resize returns a copy of the array with the dimensions specified as argument:\n",
    "\n",
    "b = np.resize(a,(2,6))\n",
    "\n",
    "print (b)\n",
    "\n",
    "## reshape returns an array pointing to the same memory space but having the specified dimensions:\n",
    "\n",
    "c = np.reshape(a,(2,6))\n",
    "\n",
    "print (c)\n"
   ]
  },
  {
   "cell_type": "markdown",
   "metadata": {},
   "source": [
    "### Speed of numpy"
   ]
  },
  {
   "cell_type": "code",
   "execution_count": 205,
   "metadata": {},
   "outputs": [
    {
     "name": "stdout",
     "output_type": "stream",
     "text": [
      "a+a with lists: 0.9131979942321777 seconds\n",
      "a+a with Numpy: 0.011334896087646484 seconds\n"
     ]
    }
   ],
   "source": [
    "## One of the important advantages of Numpy tables is their speed.\n",
    "## Doing operations using this data structure is much more efficient than under a representation based on nested lists.\n",
    "\n",
    "## For example, either the following script that compares the execution time of adding a matrix to itself.\n",
    "\n",
    "a = [ [ 1 for j in range(100) ] for i in range(100) ]\n",
    "current_time = time.time()\n",
    "for i in range(1000):\n",
    "        a_plus_a = [ [ aij + aij for aij in ai] for ai in a ] # a + a\n",
    "print (\"a+a with lists:\",time.time()-current_time,\"seconds\")\n",
    "\n",
    "# Numpy Version\n",
    "a = np.array(a)\n",
    "current_time = time.time()\n",
    "for i in range(1000):\n",
    "    a_plus_a = a+a\n",
    "print ('a+a with Numpy:',time.time()-current_time,'seconds')\n",
    "\n",
    "## The same operation with Numpy is almost 100 times faster\n"
   ]
  }
 ],
 "metadata": {
  "kernelspec": {
   "display_name": "Python 3",
   "language": "python",
   "name": "python3"
  },
  "language_info": {
   "codemirror_mode": {
    "name": "ipython",
    "version": 3
   },
   "file_extension": ".py",
   "mimetype": "text/x-python",
   "name": "python",
   "nbconvert_exporter": "python",
   "pygments_lexer": "ipython3",
   "version": "3.7.1"
  }
 },
 "nbformat": 4,
 "nbformat_minor": 2
}
